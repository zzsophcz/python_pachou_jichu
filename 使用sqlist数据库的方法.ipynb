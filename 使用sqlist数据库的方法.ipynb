{
 "cells": [
  {
   "metadata": {},
   "cell_type": "markdown",
   "source": "# sqlite库是用来将数据存到数据库中的，下面是使用方法",
   "id": "e8a41fe49386cd64"
  },
  {
   "metadata": {
    "ExecuteTime": {
     "end_time": "2025-06-09T08:44:40.932335Z",
     "start_time": "2025-06-09T08:44:40.813435Z"
    }
   },
   "cell_type": "code",
   "source": [
    "import sqlite3\n",
    "#1.建数据库\n",
    "conn = sqlite3.connect('test.db')\n",
    "print(\"成功打开数据库\")\n",
    "#2.建表\n",
    "cursor = conn.cursor() #获取游标\n",
    "sql='''\n",
    "    create table company\n",
    "        (id INTEGER PRIMARY key autoincrement,\n",
    "        name TEXT NOT NULL,\n",
    "        age INTEGER NOT NULL,\n",
    "        address char(50),\n",
    "        salary real);\n",
    "'''\n",
    "\n",
    "cursor.execute(sql) #执行sql语句\n",
    "conn.commit() #提交数据库操作\n",
    "conn.close() #关闭数据库链接"
   ],
   "id": "968bac58e06fd882",
   "outputs": [
    {
     "name": "stdout",
     "output_type": "stream",
     "text": [
      "成功打开数据库\n"
     ]
    }
   ],
   "execution_count": 8
  },
  {
   "metadata": {
    "ExecuteTime": {
     "end_time": "2025-06-09T08:50:55.768593Z",
     "start_time": "2025-06-09T08:50:55.686510Z"
    }
   },
   "cell_type": "code",
   "source": [
    "import sqlite3\n",
    "#1.建数据库\n",
    "conn = sqlite3.connect('test.db')\n",
    "print(\"成功打开数据库\")\n",
    "#3.插入数据库\n",
    "cursor = conn.cursor() #获取游标\n",
    "sql1='''\n",
    "    insert into company(id,name,age,address,salary)\n",
    "    values (1,'cz',32,'揭阳',8000)\n",
    "'''\n",
    "\n",
    "sql2='''\n",
    "    insert into company(id,name,age,address,salary)\n",
    "    values (2,'jz',16,'揭阳',0)\n",
    "'''\n",
    "\n",
    "cursor.execute(sql1) #执行sql语句\n",
    "cursor.execute(sql2)\n",
    "conn.commit() #提交数据库操作\n",
    "conn.close() #关闭数据库链接"
   ],
   "id": "9d8b46045325016",
   "outputs": [
    {
     "name": "stdout",
     "output_type": "stream",
     "text": [
      "成功打开数据库\n"
     ]
    }
   ],
   "execution_count": 10
  },
  {
   "metadata": {
    "ExecuteTime": {
     "end_time": "2025-06-09T08:54:45.768753Z",
     "start_time": "2025-06-09T08:54:45.763510Z"
    }
   },
   "cell_type": "code",
   "source": [
    "import sqlite3\n",
    "#1.建数据库\n",
    "conn = sqlite3.connect('test.db')\n",
    "print(\"成功打开数据库\")\n",
    "#4.查找数据库\n",
    "cursor = conn.cursor() #获取游标\n",
    "sql='''\n",
    "    select id,name,age,address,salary from company\n",
    "'''\n",
    "\n",
    "res=cursor.execute(sql) #执行sql语句,接收结果集\n",
    "for row in res:\n",
    "    print(\"id =\",row[0])\n",
    "    print(\"name =\",row[1])\n",
    "    print(\"age =\",row[2])\n",
    "    print(\"address =\",row[3])\n",
    "    print(\"salary =\",row[4],\"\\n\")\n",
    "\n",
    "conn.commit() #提交数据库操作\n",
    "conn.close() #关闭数据库链接"
   ],
   "id": "a3cf39106e676e2b",
   "outputs": [
    {
     "name": "stdout",
     "output_type": "stream",
     "text": [
      "成功打开数据库\n",
      "id = 1\n",
      "name = cz\n",
      "age = 32\n",
      "address = 揭阳\n",
      "salary = 8000.0 \n",
      "\n",
      "id = 2\n",
      "name = jz\n",
      "age = 16\n",
      "address = 揭阳\n",
      "salary = 0.0 \n",
      "\n"
     ]
    }
   ],
   "execution_count": 11
  }
 ],
 "metadata": {
  "kernelspec": {
   "display_name": "Python 3",
   "language": "python",
   "name": "python3"
  },
  "language_info": {
   "codemirror_mode": {
    "name": "ipython",
    "version": 2
   },
   "file_extension": ".py",
   "mimetype": "text/x-python",
   "name": "python",
   "nbconvert_exporter": "python",
   "pygments_lexer": "ipython2",
   "version": "2.7.6"
  }
 },
 "nbformat": 4,
 "nbformat_minor": 5
}
