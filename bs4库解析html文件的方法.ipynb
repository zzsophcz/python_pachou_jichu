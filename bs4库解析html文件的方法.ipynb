{
 "cells": [
  {
   "metadata": {},
   "cell_type": "markdown",
   "source": [
    "# 一.BeautifulSoup4将复杂的HTML文档转换成一个复杂的树形结构，每个节点都是python对象，所有对象可以归纳为4种：\n",
    "- Tag\n",
    "- NavigableString\n",
    "- BeautifulSoup\n",
    "- Comment\n"
   ],
   "id": "d2de202e054439b2"
  },
  {
   "metadata": {},
   "cell_type": "markdown",
   "source": "## 第一种：标签Tag",
   "id": "db4939851b8c90ce"
  },
  {
   "metadata": {
    "ExecuteTime": {
     "end_time": "2025-06-08T06:46:01.921412Z",
     "start_time": "2025-06-08T06:46:01.914482Z"
    }
   },
   "cell_type": "code",
   "source": [
    "import re\n",
    "\n",
    "from bs4 import BeautifulSoup\n",
    "from select import select\n",
    "\n",
    "#模拟从网页上爬取到了网页源代码\n",
    "file=open(\"./sample.html\",\"rb\")\n",
    "html=file.read().decode(\"utf-8\")\n",
    "\n",
    "#使用bs4需要指定解析器，html的解析器是“html.parser”\n",
    "bs=BeautifulSoup(html,\"html.parser\")\n",
    "\n",
    "#使用bs对象可以访问html里的一些标签，类似于树型查找\n",
    "#下面这种返回的是第一个找到的标签\n",
    "print(bs.title)\n",
    "print(bs.a)\n",
    "print(bs.head)\n",
    "#这种就是bs对象的第一种元素，标签，这种只能拿到第一个标签\n",
    "print(type(bs.head))"
   ],
   "id": "f3d915663717cbf9",
   "outputs": [
    {
     "name": "stdout",
     "output_type": "stream",
     "text": [
      "<title>练习网页</title>\n",
      "<a class=\"link\" href=\"https://www.example.com\">点击这里访问示例网站</a>\n",
      "<head>\n",
      "<meta charset=\"utf-8\"/>\n",
      "<title>练习网页</title>\n",
      "</head>\n",
      "<class 'bs4.element.Tag'>\n"
     ]
    }
   ],
   "execution_count": 8
  },
  {
   "metadata": {},
   "cell_type": "markdown",
   "source": "## 第二种：标签里的字符串NavigableString",
   "id": "58452075c94e6e32"
  },
  {
   "metadata": {
    "ExecuteTime": {
     "end_time": "2025-06-08T06:45:51.740819Z",
     "start_time": "2025-06-08T06:45:51.736027Z"
    }
   },
   "cell_type": "code",
   "source": [
    "print(bs.title.string)\n",
    "print(type(bs.title.string))\n",
    "#拿到一个标签里所有属性的方法\n",
    "print(bs.a.attrs)"
   ],
   "id": "dd99ce52217c944",
   "outputs": [
    {
     "name": "stdout",
     "output_type": "stream",
     "text": [
      "练习网页\n",
      "<class 'bs4.element.NavigableString'>\n",
      "{'href': 'https://www.example.com', 'class': ['link']}\n"
     ]
    }
   ],
   "execution_count": 7
  },
  {
   "metadata": {},
   "cell_type": "markdown",
   "source": "## 第三种：网页源代码文档BeautifulSoup",
   "id": "333bef0b156ab6c"
  },
  {
   "metadata": {
    "ExecuteTime": {
     "end_time": "2025-06-08T06:48:44.840912Z",
     "start_time": "2025-06-08T06:48:44.836524Z"
    }
   },
   "cell_type": "code",
   "source": [
    "print(bs)\n",
    "print(type(bs))"
   ],
   "id": "449213d9d124e981",
   "outputs": [
    {
     "name": "stdout",
     "output_type": "stream",
     "text": [
      "<!DOCTYPE html>\n",
      "\n",
      "<html lang=\"en\">\n",
      "<head>\n",
      "<meta charset=\"utf-8\"/>\n",
      "<title>练习网页</title>\n",
      "</head>\n",
      "<body>\n",
      "<h1 id=\"main-title\">欢迎学习BeautifulSoup</h1>\n",
      "<p class=\"description\">这是一个简单的HTML页面，用于学习Python爬虫。</p>\n",
      "<div class=\"content\">\n",
      "<ul id=\"item-list\">\n",
      "<li class=\"item\">苹果</li>\n",
      "<li class=\"item\">香蕉</li>\n",
      "<li class=\"item\">橘子</li>\n",
      "</ul>\n",
      "</div>\n",
      "<a class=\"link\" href=\"https://www.example.com\">点击这里访问示例网站</a>\n",
      "<a class=\"link\" href=\"https://www.python.org\">Python官网</a>\n",
      "</body>\n",
      "</html>\n",
      "\n",
      "<class 'bs4.BeautifulSoup'>\n"
     ]
    }
   ],
   "execution_count": 9
  },
  {
   "metadata": {},
   "cell_type": "markdown",
   "source": "## 第四种：特殊的第二种，但是忽略注释，不常用\n",
   "id": "9c7c1074ae198917"
  },
  {
   "metadata": {},
   "cell_type": "markdown",
   "source": "# 二.如何应用？",
   "id": "bf375fda205856a3"
  },
  {
   "metadata": {},
   "cell_type": "markdown",
   "source": "## 1.文档的遍历",
   "id": "e63bfbccb1f11e88"
  },
  {
   "metadata": {
    "ExecuteTime": {
     "end_time": "2025-06-08T06:56:52.107877Z",
     "start_time": "2025-06-08T06:56:52.102870Z"
    }
   },
   "cell_type": "code",
   "source": [
    "#可以获取这个标签内的另外的所有标签，并且放到一个列表中\n",
    "print(bs.head.contents)\n",
    "#因为返回值是一个列表，可以用中括号访问\n",
    "print(bs.head.contents[1])"
   ],
   "id": "c3dab1576bafc3df",
   "outputs": [
    {
     "name": "stdout",
     "output_type": "stream",
     "text": [
      "['\\n', <meta charset=\"utf-8\"/>, '\\n', <title>练习网页</title>, '\\n']\n",
      "<meta charset=\"utf-8\"/>\n"
     ]
    }
   ],
   "execution_count": 10
  },
  {
   "metadata": {},
   "cell_type": "markdown",
   "source": "## 2.文档的搜索",
   "id": "c0699284279f0f89"
  },
  {
   "metadata": {
    "ExecuteTime": {
     "end_time": "2025-06-08T07:42:55.747364Z",
     "start_time": "2025-06-08T07:42:55.740364Z"
    }
   },
   "cell_type": "code",
   "source": [
    "#（1）find_all()\n",
    "\n",
    "#第一种，使用字符串过滤：会查找和字符串完全相同的标签\n",
    "t_list=bs.find_all(\"a\")\n",
    "print(t_list)\n",
    "print(\"-----------------------------------\")\n",
    "#第二种：正则表达式搜索\n",
    "import re\n",
    "#包含a的都会被搜索出来\n",
    "print(bs.find_all(re.compile(\"a\")))\n",
    "print(\"-----------------------------------\")\n",
    "#第三种：传入自定义函数进行搜索\n",
    "def name_is_exist(tag):\n",
    "    return tag.has_attr(\"id\")\n",
    "print(bs.find_all(name_is_exist))#为什么函数传入不需要参数？\n",
    "#因为find_all在内部会遍历 HTML 中所有标签，然后逐个将标签对象作为参数传入你提供的函数\n",
    "print(\"-----------------------------------\")\n",
    "#第四种，按照特点传入参数\n",
    "for item in bs.find_all(id=\"main-title\"):\n",
    "    print(item)\n",
    "for item in bs.find_all(class_=\"item\"):#这里的class_是避免和关键字冲突\n",
    "    print(item)\n",
    "print(\"-----------------------------------\")\n",
    "#第五种，使用string（text在新版已被代替）按照文本查找（所以这个按字符串查找有区别？\n",
    "for item in bs.find_all(string=\"苹果\"):\n",
    "    print(item)\n",
    "#查找有数字的文本有哪些\n",
    "for item in bs.find_all(string=re.compile(\"练习\")):\n",
    "    print(item)\n",
    "print(\"-----------------第六种------------------\")\n",
    "#第六种，limit限制找的数量\n",
    "print(bs.find_all(\"a\",limit=1))\n",
    "\n",
    "#补充，似乎各种方式可以在一个find_all（）里用逗号一块用"
   ],
   "id": "2cddaf30d7aef01f",
   "outputs": [
    {
     "name": "stdout",
     "output_type": "stream",
     "text": [
      "[<a class=\"link\" href=\"https://www.example.com\">点击这里访问示例网站</a>, <a class=\"link\" href=\"https://www.python.org\">Python官网</a>]\n",
      "-----------------------------------\n",
      "[<head>\n",
      "<meta charset=\"utf-8\"/>\n",
      "<title>练习网页</title>\n",
      "</head>, <meta charset=\"utf-8\"/>, <a class=\"link\" href=\"https://www.example.com\">点击这里访问示例网站</a>, <a class=\"link\" href=\"https://www.python.org\">Python官网</a>]\n",
      "-----------------------------------\n",
      "[<h1 id=\"main-title\">欢迎学习BeautifulSoup</h1>, <ul id=\"item-list\">\n",
      "<li class=\"item\">苹果</li>\n",
      "<li class=\"item\">香蕉</li>\n",
      "<li class=\"item\">橘子</li>\n",
      "</ul>]\n",
      "-----------------------------------\n",
      "<h1 id=\"main-title\">欢迎学习BeautifulSoup</h1>\n",
      "<li class=\"item\">苹果</li>\n",
      "<li class=\"item\">香蕉</li>\n",
      "<li class=\"item\">橘子</li>\n",
      "-----------------------------------\n",
      "苹果\n",
      "练习网页\n",
      "-----------------第六种------------------\n",
      "[<a class=\"link\" href=\"https://www.example.com\">点击这里访问示例网站</a>]\n"
     ]
    }
   ],
   "execution_count": 33
  },
  {
   "metadata": {
    "ExecuteTime": {
     "end_time": "2025-06-08T07:50:11.846532Z",
     "start_time": "2025-06-08T07:50:11.841899Z"
    }
   },
   "cell_type": "code",
   "source": [
    "# （2）CSS选择器\n",
    "print(bs.select(\"title\"))\n",
    "print(bs.select(\".link\"))#.表示后面是类名\n",
    "print(bs.select(\"#item-list\"))# #表示id\n",
    "print(bs.select(\"p[class='description']\"))# []表示属性\n",
    "print(bs.select(\"head > title\"))#通过层级(子标签 > ;兄弟标签 ~)查找"
   ],
   "id": "3d4c6c775a485c4e",
   "outputs": [
    {
     "name": "stdout",
     "output_type": "stream",
     "text": [
      "[<title>练习网页</title>]\n",
      "[<a class=\"link\" href=\"https://www.example.com\">点击这里访问示例网站</a>, <a class=\"link\" href=\"https://www.python.org\">Python官网</a>]\n",
      "[<ul id=\"item-list\">\n",
      "<li class=\"item\">苹果</li>\n",
      "<li class=\"item\">香蕉</li>\n",
      "<li class=\"item\">橘子</li>\n",
      "</ul>]\n",
      "[<p class=\"description\">这是一个简单的HTML页面，用于学习Python爬虫。</p>]\n",
      "[<title>练习网页</title>]\n"
     ]
    }
   ],
   "execution_count": 43
  },
  {
   "metadata": {},
   "cell_type": "markdown",
   "source": "# 三.正则表达式的学习",
   "id": "e718fa6d63989a8f"
  },
  {
   "metadata": {},
   "cell_type": "markdown",
   "source": "## 1.正则表达式常见操作符",
   "id": "5cc34fac173f21f0"
  },
  {
   "metadata": {},
   "cell_type": "raw",
   "source": [
    "- . 任意一个字符,不包括换行符\n",
    "- [] 在范围里的字符，[a-z],[abc]\n",
    "- [^ ] 不能是范围里的字符,[^abc]\n",
    "- * 前一个字符的任意数量，abc*:ab,abccc,abc\n",
    "- + 前一个字符的大于等于一个数量,abc+:abc,abcccc\n",
    "- ? 前一个字符0或1的数量，abc?:abc,ab\n",
    "- | 左右两侧取其一,abc|def:abc,def\n",
    "- {m} 前一个字符要出现m次\n",
    "- {m,n} 前一个字符出现m到n次（包含n）\n",
    "- ^ 以什么开头，^abc,字符串要以abc开头\n",
    "- $ 以什么结尾\n",
    "- () 分组标记，内部只能用|继续规定正则表达式\n",
    "- /d,表示数字,等于[0-9]\n",
    "- /w,表示单词，等于[A-Za-z0-9]\n"
   ],
   "id": "3300068e0388a283",
   "outputs": null,
   "execution_count": null
  },
  {
   "metadata": {},
   "cell_type": "markdown",
   "source": "## 2.re库的主要函数",
   "id": "83212d16a89cd96d"
  },
  {
   "metadata": {
    "ExecuteTime": {
     "end_time": "2025-06-08T08:23:38.914068Z",
     "start_time": "2025-06-08T08:23:38.910046Z"
    }
   },
   "cell_type": "code",
   "source": [
    "import re\n",
    "\n",
    "#创建模式对象\n",
    "pat=re.compile(\"AA\")#参数是正则表达式\n",
    "print(pat.search(\"AAAAB\"))#参数是待匹配的内容,返回的span是左闭右开，只会找到第一个AA\n",
    "\n",
    "#不用模式对象也可以,前面是规则，后面是被校验串\n",
    "print(\"---------------------------------------------------------\")\n",
    "print(re.search(\"asd\",\"Aasd\"))\n",
    "#find_all()可以找到所有符合的\n",
    "print(\"---------------------------------------------------------\")\n",
    "print(re.findall(\"asd\",\"Aasdasd\"))\n",
    "print(re.findall(\"[A-Z]\",\"AasdaBdasd\"))\n",
    "print(re.findall(\"[A-Z]+\",\"ABCasdasABHdasd\"))\n",
    "#sub()找到1参用2参替换，在3参中\n",
    "print(\"---------------------------------------------------------\")\n",
    "print(re.sub(\"a\",\"A\",\"aaaASDF\"))#应用场景是把换行符换掉之类的\n",
    "#注：建议在别比较的字符串前加入r一面转义字符的影响"
   ],
   "id": "b94f4c9df5ba2bef",
   "outputs": [
    {
     "name": "stdout",
     "output_type": "stream",
     "text": [
      "<re.Match object; span=(0, 2), match='AA'>\n",
      "---------------------------------------------------------\n",
      "<re.Match object; span=(1, 4), match='asd'>\n",
      "---------------------------------------------------------\n",
      "['asd', 'asd']\n",
      "['A', 'B']\n",
      "['ABC', 'ABH']\n",
      "---------------------------------------------------------\n",
      "AAAASDF\n"
     ]
    }
   ],
   "execution_count": 54
  }
 ],
 "metadata": {
  "kernelspec": {
   "display_name": "Python 3",
   "language": "python",
   "name": "python3"
  },
  "language_info": {
   "codemirror_mode": {
    "name": "ipython",
    "version": 2
   },
   "file_extension": ".py",
   "mimetype": "text/x-python",
   "name": "python",
   "nbconvert_exporter": "python",
   "pygments_lexer": "ipython2",
   "version": "2.7.6"
  }
 },
 "nbformat": 4,
 "nbformat_minor": 5
}
