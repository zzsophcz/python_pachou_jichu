{
 "cells": [
  {
   "metadata": {},
   "cell_type": "markdown",
   "source": "# xlwt是用来将数据存放到excel表里的库，下面介绍使用方法",
   "id": "2182db825a83ce6"
  },
  {
   "metadata": {
    "ExecuteTime": {
     "end_time": "2025-06-09T07:08:45.882231Z",
     "start_time": "2025-06-09T07:08:45.820938Z"
    }
   },
   "cell_type": "code",
   "source": [
    "import xlwt\n",
    "\n",
    "workbook = xlwt.Workbook(encoding='utf-8') #创建workbook大对象\n",
    "worksheet = workbook.add_sheet('Sheet1') #创建工作表\n",
    "worksheet.write(0,0,\"hello\") #前两个时坐标，后面是内容\n",
    "worksheet.write(0,1,\"world\")\n",
    "workbook.save('helloworld.xls')"
   ],
   "id": "712665c80109011a",
   "outputs": [],
   "execution_count": 1
  }
 ],
 "metadata": {
  "kernelspec": {
   "display_name": "Python 3",
   "language": "python",
   "name": "python3"
  },
  "language_info": {
   "codemirror_mode": {
    "name": "ipython",
    "version": 2
   },
   "file_extension": ".py",
   "mimetype": "text/x-python",
   "name": "python",
   "nbconvert_exporter": "python",
   "pygments_lexer": "ipython2",
   "version": "2.7.6"
  }
 },
 "nbformat": 4,
 "nbformat_minor": 5
}
